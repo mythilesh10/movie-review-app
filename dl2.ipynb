{
 "cells": [
  {
   "cell_type": "markdown",
   "id": "cd6fe703",
   "metadata": {},
   "source": [
    "# Prac 2 "
   ]
  },
  {
   "cell_type": "code",
   "execution_count": 2,
   "id": "d8215dc4",
   "metadata": {},
   "outputs": [],
   "source": [
    "import tensorflow as tf\n",
    "import numpy as np\n",
    "import pandas as pd\n",
    "from tensorflow.keras.preprocessing.text import Tokenizer\n",
    "from tensorflow.keras.preprocessing.sequence import pad_sequences\n",
    "from tensorflow.keras.models import Sequential\n",
    "from tensorflow.keras.layers import Dense, Embedding, LSTM, Bidirectional"
   ]
  },
  {
   "cell_type": "code",
   "execution_count": 3,
   "id": "7981bbf7",
   "metadata": {},
   "outputs": [],
   "source": [
    "# Load the IMDB dataset\n",
    "imdb_df = pd.read_csv('imdb_movie_reviews.csv')"
   ]
  },
  {
   "cell_type": "code",
   "execution_count": 9,
   "id": "82566014",
   "metadata": {
    "scrolled": true
   },
   "outputs": [
    {
     "data": {
      "text/html": [
       "<div>\n",
       "<style scoped>\n",
       "    .dataframe tbody tr th:only-of-type {\n",
       "        vertical-align: middle;\n",
       "    }\n",
       "\n",
       "    .dataframe tbody tr th {\n",
       "        vertical-align: top;\n",
       "    }\n",
       "\n",
       "    .dataframe thead th {\n",
       "        text-align: right;\n",
       "    }\n",
       "</style>\n",
       "<table border=\"1\" class=\"dataframe\">\n",
       "  <thead>\n",
       "    <tr style=\"text-align: right;\">\n",
       "      <th></th>\n",
       "      <th>review</th>\n",
       "      <th>sentiment</th>\n",
       "    </tr>\n",
       "  </thead>\n",
       "  <tbody>\n",
       "    <tr>\n",
       "      <th>0</th>\n",
       "      <td>One of the other reviewers has mentioned that ...</td>\n",
       "      <td>1</td>\n",
       "    </tr>\n",
       "    <tr>\n",
       "      <th>1</th>\n",
       "      <td>A wonderful little production. &lt;br /&gt;&lt;br /&gt;The...</td>\n",
       "      <td>1</td>\n",
       "    </tr>\n",
       "    <tr>\n",
       "      <th>2</th>\n",
       "      <td>I thought this was a wonderful way to spend ti...</td>\n",
       "      <td>1</td>\n",
       "    </tr>\n",
       "    <tr>\n",
       "      <th>3</th>\n",
       "      <td>Basically there's a family where a little boy ...</td>\n",
       "      <td>0</td>\n",
       "    </tr>\n",
       "    <tr>\n",
       "      <th>4</th>\n",
       "      <td>Petter Mattei's \"Love in the Time of Money\" is...</td>\n",
       "      <td>1</td>\n",
       "    </tr>\n",
       "    <tr>\n",
       "      <th>5</th>\n",
       "      <td>Probably my all-time favorite movie, a story o...</td>\n",
       "      <td>1</td>\n",
       "    </tr>\n",
       "    <tr>\n",
       "      <th>6</th>\n",
       "      <td>I sure would like to see a resurrection of a u...</td>\n",
       "      <td>1</td>\n",
       "    </tr>\n",
       "    <tr>\n",
       "      <th>7</th>\n",
       "      <td>This show was an amazing, fresh &amp; innovative i...</td>\n",
       "      <td>0</td>\n",
       "    </tr>\n",
       "    <tr>\n",
       "      <th>8</th>\n",
       "      <td>Encouraged by the positive comments about this...</td>\n",
       "      <td>0</td>\n",
       "    </tr>\n",
       "    <tr>\n",
       "      <th>9</th>\n",
       "      <td>If you like original gut wrenching laughter yo...</td>\n",
       "      <td>1</td>\n",
       "    </tr>\n",
       "    <tr>\n",
       "      <th>10</th>\n",
       "      <td>Phil the Alien is one of those quirky films wh...</td>\n",
       "      <td>0</td>\n",
       "    </tr>\n",
       "    <tr>\n",
       "      <th>11</th>\n",
       "      <td>I saw this movie when I was about 12 when it c...</td>\n",
       "      <td>0</td>\n",
       "    </tr>\n",
       "    <tr>\n",
       "      <th>12</th>\n",
       "      <td>So im not a big fan of Boll's work but then ag...</td>\n",
       "      <td>0</td>\n",
       "    </tr>\n",
       "    <tr>\n",
       "      <th>13</th>\n",
       "      <td>The cast played Shakespeare.&lt;br /&gt;&lt;br /&gt;Shakes...</td>\n",
       "      <td>0</td>\n",
       "    </tr>\n",
       "    <tr>\n",
       "      <th>14</th>\n",
       "      <td>This a fantastic movie of three prisoners who ...</td>\n",
       "      <td>1</td>\n",
       "    </tr>\n",
       "    <tr>\n",
       "      <th>15</th>\n",
       "      <td>Kind of drawn in by the erotic scenes, only to...</td>\n",
       "      <td>0</td>\n",
       "    </tr>\n",
       "    <tr>\n",
       "      <th>16</th>\n",
       "      <td>Some films just simply should not be remade. T...</td>\n",
       "      <td>1</td>\n",
       "    </tr>\n",
       "    <tr>\n",
       "      <th>17</th>\n",
       "      <td>This movie made it into one of my top 10 most ...</td>\n",
       "      <td>0</td>\n",
       "    </tr>\n",
       "    <tr>\n",
       "      <th>18</th>\n",
       "      <td>I remember this film,it was the first film i h...</td>\n",
       "      <td>1</td>\n",
       "    </tr>\n",
       "    <tr>\n",
       "      <th>19</th>\n",
       "      <td>An awful film! It must have been up against so...</td>\n",
       "      <td>0</td>\n",
       "    </tr>\n",
       "    <tr>\n",
       "      <th>20</th>\n",
       "      <td>After the success of Die Hard and it's sequels...</td>\n",
       "      <td>1</td>\n",
       "    </tr>\n",
       "    <tr>\n",
       "      <th>21</th>\n",
       "      <td>I had the terrible misfortune of having to vie...</td>\n",
       "      <td>0</td>\n",
       "    </tr>\n",
       "    <tr>\n",
       "      <th>22</th>\n",
       "      <td>What an absolutely stunning movie, if you have...</td>\n",
       "      <td>1</td>\n",
       "    </tr>\n",
       "    <tr>\n",
       "      <th>23</th>\n",
       "      <td>First of all, let's get a few things straight ...</td>\n",
       "      <td>0</td>\n",
       "    </tr>\n",
       "    <tr>\n",
       "      <th>24</th>\n",
       "      <td>This was the worst movie I saw at WorldFest an...</td>\n",
       "      <td>0</td>\n",
       "    </tr>\n",
       "    <tr>\n",
       "      <th>25</th>\n",
       "      <td>The Karen Carpenter Story shows a little more ...</td>\n",
       "      <td>1</td>\n",
       "    </tr>\n",
       "    <tr>\n",
       "      <th>26</th>\n",
       "      <td>\"The Cell\" is an exotic masterpiece, a dizzyin...</td>\n",
       "      <td>1</td>\n",
       "    </tr>\n",
       "    <tr>\n",
       "      <th>27</th>\n",
       "      <td>This film tried to be too many things all at o...</td>\n",
       "      <td>0</td>\n",
       "    </tr>\n",
       "    <tr>\n",
       "      <th>28</th>\n",
       "      <td>This movie was so frustrating. Everything seem...</td>\n",
       "      <td>0</td>\n",
       "    </tr>\n",
       "    <tr>\n",
       "      <th>29</th>\n",
       "      <td>'War movie' is a Hollywood genre that has been...</td>\n",
       "      <td>1</td>\n",
       "    </tr>\n",
       "  </tbody>\n",
       "</table>\n",
       "</div>"
      ],
      "text/plain": [
       "                                               review  sentiment\n",
       "0   One of the other reviewers has mentioned that ...          1\n",
       "1   A wonderful little production. <br /><br />The...          1\n",
       "2   I thought this was a wonderful way to spend ti...          1\n",
       "3   Basically there's a family where a little boy ...          0\n",
       "4   Petter Mattei's \"Love in the Time of Money\" is...          1\n",
       "5   Probably my all-time favorite movie, a story o...          1\n",
       "6   I sure would like to see a resurrection of a u...          1\n",
       "7   This show was an amazing, fresh & innovative i...          0\n",
       "8   Encouraged by the positive comments about this...          0\n",
       "9   If you like original gut wrenching laughter yo...          1\n",
       "10  Phil the Alien is one of those quirky films wh...          0\n",
       "11  I saw this movie when I was about 12 when it c...          0\n",
       "12  So im not a big fan of Boll's work but then ag...          0\n",
       "13  The cast played Shakespeare.<br /><br />Shakes...          0\n",
       "14  This a fantastic movie of three prisoners who ...          1\n",
       "15  Kind of drawn in by the erotic scenes, only to...          0\n",
       "16  Some films just simply should not be remade. T...          1\n",
       "17  This movie made it into one of my top 10 most ...          0\n",
       "18  I remember this film,it was the first film i h...          1\n",
       "19  An awful film! It must have been up against so...          0\n",
       "20  After the success of Die Hard and it's sequels...          1\n",
       "21  I had the terrible misfortune of having to vie...          0\n",
       "22  What an absolutely stunning movie, if you have...          1\n",
       "23  First of all, let's get a few things straight ...          0\n",
       "24  This was the worst movie I saw at WorldFest an...          0\n",
       "25  The Karen Carpenter Story shows a little more ...          1\n",
       "26  \"The Cell\" is an exotic masterpiece, a dizzyin...          1\n",
       "27  This film tried to be too many things all at o...          0\n",
       "28  This movie was so frustrating. Everything seem...          0\n",
       "29  'War movie' is a Hollywood genre that has been...          1"
      ]
     },
     "execution_count": 9,
     "metadata": {},
     "output_type": "execute_result"
    }
   ],
   "source": [
    "imdb_df.head(30)"
   ]
  },
  {
   "cell_type": "code",
   "execution_count": 11,
   "id": "2a044f1f",
   "metadata": {},
   "outputs": [],
   "source": [
    "# Convert sentiment labels to numerical values\n",
    "imdb_df['sentiment'] = imdb_df['sentiment'].replace({'positive': 1, 'negative': 0})"
   ]
  },
  {
   "cell_type": "code",
   "execution_count": 12,
   "id": "dfe0447d",
   "metadata": {},
   "outputs": [],
   "source": [
    "# Create the tokenizer\n",
    "tokenizer = Tokenizer(num_words=5000, oov_token='<OOV>')\n",
    "tokenizer.fit_on_texts(imdb_df['review'])"
   ]
  },
  {
   "cell_type": "code",
   "execution_count": 13,
   "id": "889d110e",
   "metadata": {},
   "outputs": [],
   "source": [
    "# Tokenize and pad the sequences\n",
    "sequences = tokenizer.texts_to_sequences(imdb_df['review'])\n",
    "padded_sequences = pad_sequences(sequences, maxlen=256)"
   ]
  },
  {
   "cell_type": "code",
   "execution_count": 14,
   "id": "95267dbe",
   "metadata": {},
   "outputs": [],
   "source": [
    "# Create the model\n",
    "model = Sequential()\n",
    "model.add(Embedding(5000, 128))\n",
    "model.add(Bidirectional(LSTM(128, return_sequences=True)))\n",
    "model.add(Bidirectional(LSTM(128)))\n",
    "model.add(Dense(1, activation='sigmoid'))"
   ]
  },
  {
   "cell_type": "code",
   "execution_count": 15,
   "id": "20a12b63",
   "metadata": {},
   "outputs": [],
   "source": [
    "# Compile the model\n",
    "model.compile(loss='binary_crossentropy', optimizer='adam', metrics=['accuracy'])"
   ]
  },
  {
   "cell_type": "code",
   "execution_count": 52,
   "id": "6d6049b5",
   "metadata": {},
   "outputs": [
    {
     "name": "stdout",
     "output_type": "stream",
     "text": [
      "Epoch 1/10\n",
      "1563/1563 [==============================] - 2041s 1s/step - loss: 0.3674 - accuracy: 0.8439\n",
      "Epoch 2/10\n",
      "1563/1563 [==============================] - 2685s 2s/step - loss: 0.2741 - accuracy: 0.8907\n",
      "Epoch 3/10\n",
      "1563/1563 [==============================] - 3165s 2s/step - loss: 0.2237 - accuracy: 0.9127\n",
      "Epoch 4/10\n",
      "1563/1563 [==============================] - 2932s 2s/step - loss: 0.1934 - accuracy: 0.9251\n",
      "Epoch 5/10\n",
      "1563/1563 [==============================] - 2223s 1s/step - loss: 0.1652 - accuracy: 0.9368\n",
      "Epoch 6/10\n",
      "1563/1563 [==============================] - 1894s 1s/step - loss: 0.1368 - accuracy: 0.9497\n",
      "Epoch 7/10\n",
      "1563/1563 [==============================] - 1917s 1s/step - loss: 0.1150 - accuracy: 0.9588\n",
      "Epoch 8/10\n",
      "1563/1563 [==============================] - 25724s 16s/step - loss: 0.0934 - accuracy: 0.9668\n",
      "Epoch 9/10\n",
      "1563/1563 [==============================] - 2305s 1s/step - loss: 0.0777 - accuracy: 0.9735\n",
      "Epoch 10/10\n",
      "1563/1563 [==============================] - 2125s 1s/step - loss: 0.0639 - accuracy: 0.9777\n"
     ]
    },
    {
     "data": {
      "text/plain": [
       "<keras.src.callbacks.History at 0x2a9ec3b0e50>"
      ]
     },
     "execution_count": 52,
     "metadata": {},
     "output_type": "execute_result"
    }
   ],
   "source": [
    "# Train the model\n",
    "model.fit(padded_sequences, imdb_df['sentiment'], epochs=10)"
   ]
  },
  {
   "cell_type": "code",
   "execution_count": 55,
   "id": "0247bdbf",
   "metadata": {},
   "outputs": [
    {
     "name": "stdout",
     "output_type": "stream",
     "text": [
      "1563/1563 [==============================] - 4411s 3s/step - loss: 0.0358 - accuracy: 0.9910\n",
      "\n",
      "accuracy: 99.10%\n"
     ]
    }
   ],
   "source": [
    "# Evaluate the model\n",
    "scores = model.evaluate(padded_sequences, imdb_df['sentiment'])\n",
    "print(\"\\n%s: %.2f%%\" % (model.metrics_names[1], scores[1]*100))"
   ]
  },
  {
   "cell_type": "code",
   "execution_count": 56,
   "id": "e103a59d",
   "metadata": {},
   "outputs": [],
   "source": [
    "# Save the model\n",
    "model.save('movie_review_sentiment_analysis2.keras')"
   ]
  }
 ],
 "metadata": {
  "kernelspec": {
   "display_name": "Python 3 (ipykernel)",
   "language": "python",
   "name": "python3"
  },
  "language_info": {
   "codemirror_mode": {
    "name": "ipython",
    "version": 3
   },
   "file_extension": ".py",
   "mimetype": "text/x-python",
   "name": "python",
   "nbconvert_exporter": "python",
   "pygments_lexer": "ipython3",
   "version": "3.10.9"
  }
 },
 "nbformat": 4,
 "nbformat_minor": 5
}
